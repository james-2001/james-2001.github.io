{
 "cells": [
  {
   "cell_type": "code",
   "execution_count": 1,
   "metadata": {},
   "outputs": [],
   "source": [
    "from scipy.stats import beta"
   ]
  },
  {
   "cell_type": "code",
   "execution_count": 7,
   "metadata": {},
   "outputs": [
    {
     "name": "stdout",
     "output_type": "stream",
     "text": [
      "h0: 0.029700999999999995, h1: 0.970299\n"
     ]
    }
   ],
   "source": [
    "h0 = beta.cdf(0.01, 1, 3)\n",
    "\n",
    "print(f'h0: {h0}, h1: {1-h0}')"
   ]
  },
  {
   "cell_type": "code",
   "execution_count": 8,
   "metadata": {},
   "outputs": [
    {
     "name": "stdout",
     "output_type": "stream",
     "text": [
      "23\n"
     ]
    }
   ],
   "source": [
    "n = 2\n",
    "p = 0\n",
    "while p<=.5:\n",
    "    n+=1\n",
    "    p = beta.cdf(0.01, .5, n+.5)\n",
    "print(n)    "
   ]
  },
  {
   "cell_type": "code",
   "execution_count": 4,
   "metadata": {},
   "outputs": [
    {
     "name": "stdout",
     "output_type": "stream",
     "text": [
      "0.49511411121293003\n",
      "0.5001629701008007\n"
     ]
    }
   ],
   "source": [
    "print(beta.cdf(0.01, 1, 68))\n",
    "print(beta.cdf(0.01, 1, 69))"
   ]
  }
 ],
 "metadata": {
  "kernelspec": {
   "display_name": "stats",
   "language": "python",
   "name": "python3"
  },
  "language_info": {
   "codemirror_mode": {
    "name": "ipython",
    "version": 3
   },
   "file_extension": ".py",
   "mimetype": "text/x-python",
   "name": "python",
   "nbconvert_exporter": "python",
   "pygments_lexer": "ipython3",
   "version": "3.11.4"
  },
  "orig_nbformat": 4
 },
 "nbformat": 4,
 "nbformat_minor": 2
}
